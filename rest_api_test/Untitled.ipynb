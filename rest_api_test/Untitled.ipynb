{
 "cells": [
  {
   "cell_type": "code",
   "execution_count": 11,
   "id": "portuguese-marine",
   "metadata": {},
   "outputs": [
    {
     "data": {
      "text/plain": [
       "'Qbw2-onITgqPc9taynnKdQ|Xkk8mZqhJ93wgprO4j7O2PEsrROjRq8M'"
      ]
     },
     "execution_count": 11,
     "metadata": {},
     "output_type": "execute_result"
    }
   ],
   "source": [
    "import requests\n",
    "import xml.etree.ElementTree as ET\n",
    "import pandas as pd\n",
    "\n",
    "url = \"https://10ax.online.tableau.com/api/3.11/auth/signin\"\n",
    "\n",
    "payload = \"<tsRequest>\\r\\n  <credentials name=\\\"jbekkedam@newcomp.com\\\" password=\\\"Killaz101!@\\\" >\\r\\n    <site contentUrl=\\\"jasontestdev398965\\\" />\\r\\n  </credentials>\\r\\n</tsRequest>\"\n",
    "headers = {\n",
    "  'Content-Type': 'text/plain',\n",
    "  'Cookie': 'AWSELB=3DAB357D1283FCCC77AA83D08989B29DE92E63276A35E4A6497FDFF23627AAC36FDB3A158CB22BDF1A851E0BB71E913D1A340F4B537476CA31DFC16AEB214018758D38A3CF31AD9AA74EA892D878DD28603CF437C4; hid=10axpd-hap01'\n",
    "}\n",
    "\n",
    "r = requests.request(\"POST\", url, headers=headers, data=payload)\n",
    "\n",
    "data = r.text\n",
    "myroot = ET.fromstring(data)\n",
    "\n",
    "token = myroot[0].attrib['token'] #token\n",
    "token\n"
   ]
  },
  {
   "cell_type": "code",
   "execution_count": 12,
   "id": "living-medline",
   "metadata": {},
   "outputs": [
    {
     "name": "stdout",
     "output_type": "stream",
     "text": [
      "<?xml version='1.0' encoding='UTF-8'?><tsResponse xmlns=\"http://tableau.com/api\" xmlns:xsi=\"http://www.w3.org/2001/XMLSchema-instance\" xsi:schemaLocation=\"http://tableau.com/api http://tableau.com/api/ts-api-3.11.xsd\"><pagination pageNumber=\"1\" pageSize=\"100\" totalAvailable=\"6\"/><workbooks><workbook id=\"6e298b42-7e0f-4e15-88b6-c787fadd4750\" name=\"Regional\" contentUrl=\"Regional\" webpageUrl=\"https://10ax.online.tableau.com/#/site/jasontestdev398965/workbooks/76101\" showTabs=\"true\" size=\"2\" createdAt=\"2021-04-19T18:07:11Z\" updatedAt=\"2021-05-04T21:15:21Z\" encryptExtracts=\"false\" defaultViewId=\"7acb5edf-2d74-43e7-8472-8fd116d65e76\"><project id=\"a57719ba-af94-4817-a329-9dc9ccc4365b\" name=\"Samples\"/><owner id=\"90bdd912-7cc0-41d1-b6df-704dff936de7\" name=\"jbekkedam@newcomp.com\"/><tags/><dataAccelerationConfig accelerationEnabled=\"false\"/></workbook><workbook id=\"9242a609-7522-42ff-b06c-0cb2d85cb290\" name=\"Superstore\" contentUrl=\"Superstore\" webpageUrl=\"https://10ax.online.tableau.com/#/site/jasontestdev398965/workbooks/76102\" showTabs=\"true\" size=\"1\" createdAt=\"2021-04-19T18:07:15Z\" updatedAt=\"2021-04-19T18:07:16Z\" encryptExtracts=\"false\" defaultViewId=\"95807652-2e3a-431b-b68e-28c72a7f7c15\"><project id=\"a57719ba-af94-4817-a329-9dc9ccc4365b\" name=\"Samples\"/><owner id=\"90bdd912-7cc0-41d1-b6df-704dff936de7\" name=\"jbekkedam@newcomp.com\"/><tags/><dataAccelerationConfig accelerationEnabled=\"false\"/></workbook><workbook id=\"445809ce-0e9d-470d-a3c3-9a56c9e04d44\" name=\"AHS Extension\" description=\"\" contentUrl=\"AHSExtension\" webpageUrl=\"https://10ax.online.tableau.com/#/site/jasontestdev398965/workbooks/76686\" showTabs=\"false\" size=\"1\" createdAt=\"2021-04-27T20:09:03Z\" updatedAt=\"2021-04-28T16:57:52Z\" encryptExtracts=\"false\" defaultViewId=\"e6a163dc-fd48-4076-87c9-73d0ef7553f9\"><project id=\"6834fe90-b651-4da6-be93-efcc275070e6\" name=\"AHS\"/><owner id=\"90bdd912-7cc0-41d1-b6df-704dff936de7\" name=\"jbekkedam@newcomp.com\"/><tags/><dataAccelerationConfig accelerationEnabled=\"false\"/></workbook><workbook id=\"09634f13-0649-4dad-90f5-d2eaecec1599\" name=\"AHS Extension github pages\" description=\"\" contentUrl=\"AHSExtensiongithubpages\" webpageUrl=\"https://10ax.online.tableau.com/#/site/jasontestdev398965/workbooks/76749\" showTabs=\"false\" size=\"1\" createdAt=\"2021-04-28T17:49:27Z\" updatedAt=\"2021-04-29T13:10:55Z\" encryptExtracts=\"false\" defaultViewId=\"0d6c8303-fbf3-4dc0-a64d-6137078e8471\"><project id=\"6834fe90-b651-4da6-be93-efcc275070e6\" name=\"AHS\"/><owner id=\"90bdd912-7cc0-41d1-b6df-704dff936de7\" name=\"jbekkedam@newcomp.com\"/><tags/><dataAccelerationConfig accelerationEnabled=\"false\"/></workbook><workbook id=\"8b0940fe-72fb-4c12-9446-8e7149b264ef\" name=\"AHS Extension github pages, Example\" description=\"\" contentUrl=\"AHSExtensiongithubpagesExample\" webpageUrl=\"https://10ax.online.tableau.com/#/site/jasontestdev398965/workbooks/76897\" showTabs=\"false\" size=\"1\" createdAt=\"2021-04-30T17:46:57Z\" updatedAt=\"2021-04-30T17:52:05Z\" encryptExtracts=\"false\" defaultViewId=\"9dd06b44-44ad-48d1-949f-90d109273837\"><project id=\"6834fe90-b651-4da6-be93-efcc275070e6\" name=\"AHS\"/><owner id=\"90bdd912-7cc0-41d1-b6df-704dff936de7\" name=\"jbekkedam@newcomp.com\"/><tags/><dataAccelerationConfig accelerationEnabled=\"false\"/></workbook><workbook id=\"a1d1608a-8b29-49f7-8b39-fd562fa1201a\" name=\"tableWB\" contentUrl=\"tableWB\" webpageUrl=\"https://10ax.online.tableau.com/#/site/jasontestdev398965/workbooks/79132\" showTabs=\"false\" size=\"1\" createdAt=\"2021-06-02T03:16:12Z\" updatedAt=\"2021-06-02T13:28:40Z\" encryptExtracts=\"false\" defaultViewId=\"146291dc-ad12-405b-94cf-c8ef9c9b0b46\"><project id=\"88bc49e9-729c-4857-8b6b-2964b7260869\" name=\"PDF Pagination\"/><owner id=\"90bdd912-7cc0-41d1-b6df-704dff936de7\" name=\"jbekkedam@newcomp.com\"/><tags/><dataAccelerationConfig accelerationEnabled=\"false\"/></workbook></workbooks></tsResponse>\n"
     ]
    }
   ],
   "source": [
    "import requests\n",
    "\n",
    "url = \"https://10ax.online.tableau.com/api/3.11/sites/67cdaf90-37ef-4a9b-bf9a-487f5cc8fee2/workbooks\"\n",
    "\n",
    "payload={}\n",
    "headers = {\n",
    "  'x-tableau-auth': token,\n",
    "  'Cookie': 'AWSELB=3DAB357D1283FCCC77AA83D08989B29DE92E63276A35E4A6497FDFF23627AAC36FDB3A158CB22BDF1A851E0BB71E913D1A340F4B537476CA31DFC16AEB214018758D38A3CF31AD9AA74EA892D878DD28603CF437C4; hid=10axpd-hap01'\n",
    "}\n",
    "\n",
    "response = requests.request(\"GET\", url, headers=headers, data=payload)\n",
    "\n",
    "print(response.text)\n"
   ]
  },
  {
   "cell_type": "code",
   "execution_count": 23,
   "id": "massive-closer",
   "metadata": {},
   "outputs": [
    {
     "name": "stdout",
     "output_type": "stream",
     "text": [
      "myroot <Element '{http://tableau.com/api}tsResponse' at 0x000001CE3DB1E8B8>\n",
      "datsource_id: ed9bedce-c7c4-4b5b-a932-a537951e5de2\n",
      "project {'id': '271cc477-3c6b-4bbe-be67-47f7f0924664'}\n",
      "datsource_id: a57719ba-af94-4817-a329-9dc9ccc4365b\n",
      "project {'id': '90bdd912-7cc0-41d1-b6df-704dff936de7'}\n",
      "datsource_id: 6834fe90-b651-4da6-be93-efcc275070e6\n",
      "project {'id': '90bdd912-7cc0-41d1-b6df-704dff936de7'}\n",
      "datsource_id: 88bc49e9-729c-4857-8b6b-2964b7260869\n",
      "project {'id': '90bdd912-7cc0-41d1-b6df-704dff936de7'}\n",
      "[]\n"
     ]
    },
    {
     "data": {
      "text/html": [
       "<div>\n",
       "<style scoped>\n",
       "    .dataframe tbody tr th:only-of-type {\n",
       "        vertical-align: middle;\n",
       "    }\n",
       "\n",
       "    .dataframe tbody tr th {\n",
       "        vertical-align: top;\n",
       "    }\n",
       "\n",
       "    .dataframe thead th {\n",
       "        text-align: right;\n",
       "    }\n",
       "</style>\n",
       "<table border=\"1\" class=\"dataframe\">\n",
       "  <thead>\n",
       "    <tr style=\"text-align: right;\">\n",
       "      <th></th>\n",
       "      <th>project_id</th>\n",
       "      <th>project_name</th>\n",
       "    </tr>\n",
       "  </thead>\n",
       "  <tbody>\n",
       "    <tr>\n",
       "      <th>0</th>\n",
       "      <td>ed9bedce-c7c4-4b5b-a932-a537951e5de2</td>\n",
       "      <td>default</td>\n",
       "    </tr>\n",
       "    <tr>\n",
       "      <th>1</th>\n",
       "      <td>a57719ba-af94-4817-a329-9dc9ccc4365b</td>\n",
       "      <td>Samples</td>\n",
       "    </tr>\n",
       "    <tr>\n",
       "      <th>2</th>\n",
       "      <td>6834fe90-b651-4da6-be93-efcc275070e6</td>\n",
       "      <td>AHS</td>\n",
       "    </tr>\n",
       "    <tr>\n",
       "      <th>3</th>\n",
       "      <td>88bc49e9-729c-4857-8b6b-2964b7260869</td>\n",
       "      <td>PDF Pagination</td>\n",
       "    </tr>\n",
       "  </tbody>\n",
       "</table>\n",
       "</div>"
      ],
      "text/plain": [
       "                             project_id    project_name\n",
       "0  ed9bedce-c7c4-4b5b-a932-a537951e5de2         default\n",
       "1  a57719ba-af94-4817-a329-9dc9ccc4365b         Samples\n",
       "2  6834fe90-b651-4da6-be93-efcc275070e6             AHS\n",
       "3  88bc49e9-729c-4857-8b6b-2964b7260869  PDF Pagination"
      ]
     },
     "execution_count": 23,
     "metadata": {},
     "output_type": "execute_result"
    }
   ],
   "source": [
    "import requests\n",
    "\n",
    "url = \"https://10ax.online.tableau.com/api/3.11/sites/67cdaf90-37ef-4a9b-bf9a-487f5cc8fee2/projects\"\n",
    "\n",
    "payload={}\n",
    "headers = {\n",
    "  'x-tableau-auth': token,\n",
    "  'Cookie': 'AWSELB=3DAB357D1283FCCC77AA83D08989B29DE92E63276A35E4A6497FDFF23627AAC36FDB3A158CB22BDF1A851E0BB71E913D1A340F4B537476CA31DFC16AEB214018758D38A3CF31AD9AA74EA892D878DD28603CF437C4; hid=10axpd-hap01'\n",
    "}\n",
    "\n",
    "r = requests.request(\"GET\", url, headers=headers, data=payload)\n",
    "myroot = ET.fromstring(r.text)\n",
    "\n",
    "\n",
    "#print(r)\n",
    "print(\"myroot\" , myroot)\n",
    "\n",
    "\n",
    "\n",
    "output = pd.DataFrame()\n",
    "\n",
    "#ids of each datasource\n",
    "for x in myroot[1]: #projects\n",
    "\n",
    "    print(\"datsource_id:\", x.attrib[\"id\"])\n",
    "    print(\"project\", x[0].attrib)\n",
    "    project_id = x.attrib[\"id\"]\n",
    "    project_name = x.attrib[\"name\"]\n",
    "    \n",
    "\n",
    "    project_dict = {\"project_id\": project_id, \"project_name\": project_name }\n",
    "    output = output.append(project_dict, ignore_index=True)\n",
    "    \n",
    "print(project_arr)\n",
    "project_df = output\n",
    "\n",
    "project_df.to_csv(\"./project_df.csv\")\n",
    "#project_df = project_df[project_df['project_name'] == \"default\"]\n",
    "project_df"
   ]
  },
  {
   "cell_type": "code",
   "execution_count": null,
   "id": "dimensional-hopkins",
   "metadata": {},
   "outputs": [],
   "source": []
  },
  {
   "cell_type": "code",
   "execution_count": null,
   "id": "induced-induction",
   "metadata": {},
   "outputs": [],
   "source": []
  },
  {
   "cell_type": "code",
   "execution_count": null,
   "id": "relative-cricket",
   "metadata": {},
   "outputs": [],
   "source": []
  }
 ],
 "metadata": {
  "kernelspec": {
   "display_name": "Python 3",
   "language": "python",
   "name": "python3"
  },
  "language_info": {
   "codemirror_mode": {
    "name": "ipython",
    "version": 3
   },
   "file_extension": ".py",
   "mimetype": "text/x-python",
   "name": "python",
   "nbconvert_exporter": "python",
   "pygments_lexer": "ipython3",
   "version": "3.7.9"
  },
  "toc": {
   "base_numbering": 1,
   "nav_menu": {},
   "number_sections": true,
   "sideBar": true,
   "skip_h1_title": false,
   "title_cell": "Table of Contents",
   "title_sidebar": "Contents",
   "toc_cell": false,
   "toc_position": {},
   "toc_section_display": true,
   "toc_window_display": false
  },
  "varInspector": {
   "cols": {
    "lenName": 16,
    "lenType": 16,
    "lenVar": 40
   },
   "kernels_config": {
    "python": {
     "delete_cmd_postfix": "",
     "delete_cmd_prefix": "del ",
     "library": "var_list.py",
     "varRefreshCmd": "print(var_dic_list())"
    },
    "r": {
     "delete_cmd_postfix": ") ",
     "delete_cmd_prefix": "rm(",
     "library": "var_list.r",
     "varRefreshCmd": "cat(var_dic_list()) "
    }
   },
   "types_to_exclude": [
    "module",
    "function",
    "builtin_function_or_method",
    "instance",
    "_Feature"
   ],
   "window_display": false
  }
 },
 "nbformat": 4,
 "nbformat_minor": 5
}
